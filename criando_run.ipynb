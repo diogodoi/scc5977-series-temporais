{
 "cells": [
  {
   "cell_type": "code",
   "execution_count": 1,
   "metadata": {
    "id": "c5cK7y9Xvvwv"
   },
   "outputs": [],
   "source": [
    "QRELS_PATH = 'evaluation/qrels.json'"
   ]
  },
  {
   "cell_type": "code",
   "execution_count": 58,
   "metadata": {
    "id": "A6_F-loJv2g3"
   },
   "outputs": [],
   "source": [
    "SEED = 2024\n",
    "ANALYSIS_COL = 'userAcceleration.z'\n",
    "PRECOMPUTED_DISTANCES = f\"evaluation/adtw/{ANALYSIS_COL.replace('.', '-')}_distances.npy\"\n",
    "RUN_FILE = f\"evaluation/runs/adtw_{ANALYSIS_COL.replace('.', '-')}.json\"\n",
    "\n",
    "# DIST = 'adtw'\n",
    "# PRECOMPUTED_DISTANCES = f\"evaluation/multivar/{DIST}_distances.npy\"\n",
    "# RUN_FILE = f\"evaluation/runs/{DIST}_multivar.json\""
   ]
  },
  {
   "cell_type": "markdown",
   "metadata": {},
   "source": [
    "# Preparando avaliação"
   ]
  },
  {
   "cell_type": "code",
   "execution_count": 59,
   "metadata": {},
   "outputs": [],
   "source": [
    "from ranx import Qrels"
   ]
  },
  {
   "cell_type": "code",
   "execution_count": 60,
   "metadata": {},
   "outputs": [],
   "source": [
    "qrels = Qrels.from_file(QRELS_PATH)"
   ]
  },
  {
   "cell_type": "markdown",
   "metadata": {
    "id": "vHGtoI2a8MwD"
   },
   "source": [
    "# Executando a busca por similaridade"
   ]
  },
  {
   "cell_type": "code",
   "execution_count": 61,
   "metadata": {
    "id": "_iVpH7Pv9WIt"
   },
   "outputs": [],
   "source": [
    "from ranx import Run\n",
    "import numpy as np\n",
    "from aeon.distances import dtw_pairwise_distance"
   ]
  },
  {
   "cell_type": "code",
   "execution_count": 62,
   "metadata": {
    "id": "Eahn4PE773pS"
   },
   "outputs": [],
   "source": [
    "def compute_neighbors_by_similarity(\n",
    "    distances: np.array,\n",
    "    topk: int = 100) -> dict:\n",
    "\n",
    "  run_dict = {}\n",
    "\n",
    "  for qid in range(distances.shape[0]):\n",
    "    all_sims = distances[qid]\n",
    "    topk = np.argsort(all_sims)\n",
    "\n",
    "    # ignorando o proprio exemplo de busca\n",
    "    estimated_ids = topk[1:]\n",
    "    scores = list(range(len(estimated_ids)))[::-1]\n",
    "\n",
    "    run_dict[str(qid)] = {str(n): float(score) for n, score in zip(estimated_ids, scores)}\n",
    "\n",
    "  return run_dict"
   ]
  },
  {
   "cell_type": "code",
   "execution_count": 63,
   "metadata": {},
   "outputs": [
    {
     "data": {
      "text/plain": [
       "'evaluation/adtw/userAcceleration-z_distances.npy'"
      ]
     },
     "execution_count": 63,
     "metadata": {},
     "output_type": "execute_result"
    }
   ],
   "source": [
    "PRECOMPUTED_DISTANCES"
   ]
  },
  {
   "cell_type": "code",
   "execution_count": 64,
   "metadata": {},
   "outputs": [],
   "source": [
    "distances = np.load(PRECOMPUTED_DISTANCES)"
   ]
  },
  {
   "cell_type": "code",
   "execution_count": 65,
   "metadata": {
    "id": "d5yvbyIxAieE"
   },
   "outputs": [],
   "source": [
    "run_dict = compute_neighbors_by_similarity(distances)"
   ]
  },
  {
   "cell_type": "markdown",
   "metadata": {
    "id": "VWuFpvgpAs3Z"
   },
   "source": [
    "# Avaliando métricas de RI"
   ]
  },
  {
   "cell_type": "code",
   "execution_count": 66,
   "metadata": {
    "id": "D-3hqLUoA0td"
   },
   "outputs": [],
   "source": [
    "from ranx import evaluate"
   ]
  },
  {
   "cell_type": "code",
   "execution_count": 67,
   "metadata": {
    "id": "QzwFOfz6Ars0"
   },
   "outputs": [],
   "source": [
    "METRICS = [\"recall@10\", 'map@10', 'hit_rate@10', 'mrr@10']\n",
    "# METRICS = 'mrr@10'"
   ]
  },
  {
   "cell_type": "code",
   "execution_count": 68,
   "metadata": {
    "id": "AGYwxeYxlMQr"
   },
   "outputs": [],
   "source": [
    "run = Run(run_dict)"
   ]
  },
  {
   "cell_type": "code",
   "execution_count": 69,
   "metadata": {
    "colab": {
     "base_uri": "https://localhost:8080/"
    },
    "id": "GZNzJYvIAyg-",
    "outputId": "58e8d10a-710e-4abc-ea38-1eedc13c5543"
   },
   "outputs": [
    {
     "data": {
      "text/plain": [
       "{'recall@10': 0.21846064814814814,\n",
       " 'map@10': 0.1649327371766608,\n",
       " 'hit_rate@10': 0.9861111111111112,\n",
       " 'mrr@10': 0.7505649250440916}"
      ]
     },
     "execution_count": 69,
     "metadata": {},
     "output_type": "execute_result"
    }
   ],
   "source": [
    "metrics = evaluate(qrels, run, METRICS)\n",
    "metrics"
   ]
  },
  {
   "cell_type": "markdown",
   "metadata": {
    "id": "MYR0WoNRl9G_"
   },
   "source": [
    "# Serializando Run"
   ]
  },
  {
   "cell_type": "code",
   "execution_count": 70,
   "metadata": {
    "id": "JJQEYvzKEZFw"
   },
   "outputs": [
    {
     "data": {
      "text/plain": [
       "'evaluation/runs/adtw_userAcceleration-z.json'"
      ]
     },
     "execution_count": 70,
     "metadata": {},
     "output_type": "execute_result"
    }
   ],
   "source": [
    "RUN_FILE"
   ]
  },
  {
   "cell_type": "code",
   "execution_count": 71,
   "metadata": {
    "id": "Gg4sfB0dKBOW"
   },
   "outputs": [],
   "source": [
    "run.save(RUN_FILE)"
   ]
  },
  {
   "cell_type": "code",
   "execution_count": null,
   "metadata": {
    "id": "_2sX-GyRmK33"
   },
   "outputs": [],
   "source": []
  }
 ],
 "metadata": {
  "colab": {
   "provenance": []
  },
  "kernelspec": {
   "display_name": "ts",
   "language": "python",
   "name": "python3"
  },
  "language_info": {
   "codemirror_mode": {
    "name": "ipython",
    "version": 3
   },
   "file_extension": ".py",
   "mimetype": "text/x-python",
   "name": "python",
   "nbconvert_exporter": "python",
   "pygments_lexer": "ipython3",
   "version": "3.10.15"
  }
 },
 "nbformat": 4,
 "nbformat_minor": 0
}
