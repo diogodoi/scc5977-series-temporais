{
  "cells": [
    {
      "cell_type": "code",
      "execution_count": 1,
      "metadata": {
        "id": "c5cK7y9Xvvwv"
      },
      "outputs": [],
      "source": [
        "DATA_PATH = 'data/motionsense.csv'\n",
        "QRELS_PATH = 'evaluation/qrels.json'"
      ]
    },
    {
      "cell_type": "code",
      "execution_count": 2,
      "metadata": {
        "id": "A6_F-loJv2g3"
      },
      "outputs": [],
      "source": [
        "ANALYSIS_COL = 'userAcceleration.z'\n",
        "SEED = 2024\n",
        "PRECOMPUTED_DISTANCES = f\"evaluation/adtw/{ANALYSIS_COL.replace('.', '-')}_distances.npy\"\n",
        "RUN_FILE = f\"evaluation/runs/dtw_{ANALYSIS_COL.replace('.', '-')}.json\""
      ]
    },
    {
      "cell_type": "markdown",
      "metadata": {
        "id": "gT3iJ-NetpDH"
      },
      "source": [
        "# Carregando os dados processados"
      ]
    },
    {
      "cell_type": "code",
      "execution_count": 3,
      "metadata": {
        "id": "d8hgqmbOtc3x"
      },
      "outputs": [],
      "source": [
        "import pandas as pd"
      ]
    },
    {
      "cell_type": "code",
      "execution_count": 4,
      "metadata": {
        "id": "qlHygf0lxXpm"
      },
      "outputs": [],
      "source": [
        "df = pd.read_csv(DATA_PATH, index_col=0)"
      ]
    },
    {
      "cell_type": "code",
      "execution_count": 5,
      "metadata": {
        "colab": {
          "base_uri": "https://localhost:8080/",
          "height": 226
        },
        "id": "Q7CBt92Bxenm",
        "outputId": "0bc5c95c-60d7-46f1-a6e9-7aa999ebebc4"
      },
      "outputs": [
        {
          "data": {
            "text/html": [
              "<div>\n",
              "<style scoped>\n",
              "    .dataframe tbody tr th:only-of-type {\n",
              "        vertical-align: middle;\n",
              "    }\n",
              "\n",
              "    .dataframe tbody tr th {\n",
              "        vertical-align: top;\n",
              "    }\n",
              "\n",
              "    .dataframe thead th {\n",
              "        text-align: right;\n",
              "    }\n",
              "</style>\n",
              "<table border=\"1\" class=\"dataframe\">\n",
              "  <thead>\n",
              "    <tr style=\"text-align: right;\">\n",
              "      <th></th>\n",
              "      <th>attitude.roll</th>\n",
              "      <th>attitude.pitch</th>\n",
              "      <th>attitude.yaw</th>\n",
              "      <th>gravity.x</th>\n",
              "      <th>gravity.y</th>\n",
              "      <th>gravity.z</th>\n",
              "      <th>rotationRate.x</th>\n",
              "      <th>rotationRate.y</th>\n",
              "      <th>rotationRate.z</th>\n",
              "      <th>userAcceleration.x</th>\n",
              "      <th>userAcceleration.y</th>\n",
              "      <th>userAcceleration.z</th>\n",
              "      <th>act</th>\n",
              "      <th>id</th>\n",
              "      <th>trial</th>\n",
              "    </tr>\n",
              "  </thead>\n",
              "  <tbody>\n",
              "    <tr>\n",
              "      <th>0</th>\n",
              "      <td>1.528132</td>\n",
              "      <td>-0.733896</td>\n",
              "      <td>0.696372</td>\n",
              "      <td>0.741895</td>\n",
              "      <td>0.669768</td>\n",
              "      <td>-0.031672</td>\n",
              "      <td>0.316738</td>\n",
              "      <td>0.778180</td>\n",
              "      <td>1.082764</td>\n",
              "      <td>0.294894</td>\n",
              "      <td>-0.184493</td>\n",
              "      <td>0.377542</td>\n",
              "      <td>0.0</td>\n",
              "      <td>0.0</td>\n",
              "      <td>1.0</td>\n",
              "    </tr>\n",
              "    <tr>\n",
              "      <th>1</th>\n",
              "      <td>1.527992</td>\n",
              "      <td>-0.716987</td>\n",
              "      <td>0.677762</td>\n",
              "      <td>0.753099</td>\n",
              "      <td>0.657116</td>\n",
              "      <td>-0.032255</td>\n",
              "      <td>0.842032</td>\n",
              "      <td>0.424446</td>\n",
              "      <td>0.643574</td>\n",
              "      <td>0.219405</td>\n",
              "      <td>0.035846</td>\n",
              "      <td>0.114866</td>\n",
              "      <td>0.0</td>\n",
              "      <td>0.0</td>\n",
              "      <td>1.0</td>\n",
              "    </tr>\n",
              "    <tr>\n",
              "      <th>2</th>\n",
              "      <td>1.527765</td>\n",
              "      <td>-0.706999</td>\n",
              "      <td>0.670951</td>\n",
              "      <td>0.759611</td>\n",
              "      <td>0.649555</td>\n",
              "      <td>-0.032707</td>\n",
              "      <td>-0.138143</td>\n",
              "      <td>-0.040741</td>\n",
              "      <td>0.343563</td>\n",
              "      <td>0.010714</td>\n",
              "      <td>0.134701</td>\n",
              "      <td>-0.167808</td>\n",
              "      <td>0.0</td>\n",
              "      <td>0.0</td>\n",
              "      <td>1.0</td>\n",
              "    </tr>\n",
              "    <tr>\n",
              "      <th>3</th>\n",
              "      <td>1.516768</td>\n",
              "      <td>-0.704678</td>\n",
              "      <td>0.675735</td>\n",
              "      <td>0.760709</td>\n",
              "      <td>0.647788</td>\n",
              "      <td>-0.041140</td>\n",
              "      <td>-0.025005</td>\n",
              "      <td>-1.048717</td>\n",
              "      <td>0.035860</td>\n",
              "      <td>-0.008389</td>\n",
              "      <td>0.136788</td>\n",
              "      <td>0.094958</td>\n",
              "      <td>0.0</td>\n",
              "      <td>0.0</td>\n",
              "      <td>1.0</td>\n",
              "    </tr>\n",
              "    <tr>\n",
              "      <th>4</th>\n",
              "      <td>1.493941</td>\n",
              "      <td>-0.703918</td>\n",
              "      <td>0.672994</td>\n",
              "      <td>0.760062</td>\n",
              "      <td>0.647210</td>\n",
              "      <td>-0.058530</td>\n",
              "      <td>0.114253</td>\n",
              "      <td>-0.912890</td>\n",
              "      <td>0.047341</td>\n",
              "      <td>0.199441</td>\n",
              "      <td>0.353996</td>\n",
              "      <td>-0.044299</td>\n",
              "      <td>0.0</td>\n",
              "      <td>0.0</td>\n",
              "      <td>1.0</td>\n",
              "    </tr>\n",
              "  </tbody>\n",
              "</table>\n",
              "</div>"
            ],
            "text/plain": [
              "   attitude.roll  attitude.pitch  attitude.yaw  gravity.x  gravity.y  \\\n",
              "0       1.528132       -0.733896      0.696372   0.741895   0.669768   \n",
              "1       1.527992       -0.716987      0.677762   0.753099   0.657116   \n",
              "2       1.527765       -0.706999      0.670951   0.759611   0.649555   \n",
              "3       1.516768       -0.704678      0.675735   0.760709   0.647788   \n",
              "4       1.493941       -0.703918      0.672994   0.760062   0.647210   \n",
              "\n",
              "   gravity.z  rotationRate.x  rotationRate.y  rotationRate.z  \\\n",
              "0  -0.031672        0.316738        0.778180        1.082764   \n",
              "1  -0.032255        0.842032        0.424446        0.643574   \n",
              "2  -0.032707       -0.138143       -0.040741        0.343563   \n",
              "3  -0.041140       -0.025005       -1.048717        0.035860   \n",
              "4  -0.058530        0.114253       -0.912890        0.047341   \n",
              "\n",
              "   userAcceleration.x  userAcceleration.y  userAcceleration.z  act   id  trial  \n",
              "0            0.294894           -0.184493            0.377542  0.0  0.0    1.0  \n",
              "1            0.219405            0.035846            0.114866  0.0  0.0    1.0  \n",
              "2            0.010714            0.134701           -0.167808  0.0  0.0    1.0  \n",
              "3           -0.008389            0.136788            0.094958  0.0  0.0    1.0  \n",
              "4            0.199441            0.353996           -0.044299  0.0  0.0    1.0  "
            ]
          },
          "execution_count": 5,
          "metadata": {},
          "output_type": "execute_result"
        }
      ],
      "source": [
        "df.head()"
      ]
    },
    {
      "cell_type": "code",
      "execution_count": 6,
      "metadata": {
        "colab": {
          "base_uri": "https://localhost:8080/"
        },
        "id": "rToPntyzxfMN",
        "outputId": "9fa9b77a-cd91-477d-9c3a-14f2d49e66ba"
      },
      "outputs": [
        {
          "name": "stdout",
          "output_type": "stream",
          "text": [
            "<class 'pandas.core.frame.DataFrame'>\n",
            "Index: 1412865 entries, 0 to 1412864\n",
            "Data columns (total 15 columns):\n",
            " #   Column              Non-Null Count    Dtype  \n",
            "---  ------              --------------    -----  \n",
            " 0   attitude.roll       1412865 non-null  float64\n",
            " 1   attitude.pitch      1412865 non-null  float64\n",
            " 2   attitude.yaw        1412865 non-null  float64\n",
            " 3   gravity.x           1412865 non-null  float64\n",
            " 4   gravity.y           1412865 non-null  float64\n",
            " 5   gravity.z           1412865 non-null  float64\n",
            " 6   rotationRate.x      1412865 non-null  float64\n",
            " 7   rotationRate.y      1412865 non-null  float64\n",
            " 8   rotationRate.z      1412865 non-null  float64\n",
            " 9   userAcceleration.x  1412865 non-null  float64\n",
            " 10  userAcceleration.y  1412865 non-null  float64\n",
            " 11  userAcceleration.z  1412865 non-null  float64\n",
            " 12  act                 1412865 non-null  float64\n",
            " 13  id                  1412865 non-null  float64\n",
            " 14  trial               1412865 non-null  float64\n",
            "dtypes: float64(15)\n",
            "memory usage: 172.5 MB\n"
          ]
        }
      ],
      "source": [
        "df.info()"
      ]
    },
    {
      "cell_type": "code",
      "execution_count": 7,
      "metadata": {
        "colab": {
          "base_uri": "https://localhost:8080/"
        },
        "id": "aqH2AcebyCpw",
        "outputId": "abbcfc39-edc2-4878-d045-a2cab1aaea38"
      },
      "outputs": [
        {
          "data": {
            "text/plain": [
              "6"
            ]
          },
          "execution_count": 7,
          "metadata": {},
          "output_type": "execute_result"
        }
      ],
      "source": [
        "df['act'].nunique() # lembrar de mapear id para string da classe"
      ]
    },
    {
      "cell_type": "markdown",
      "metadata": {
        "id": "paDloZmq0t1-"
      },
      "source": [
        "# Separando pares X e y"
      ]
    },
    {
      "cell_type": "code",
      "execution_count": 8,
      "metadata": {
        "id": "92UH21qO0sd2"
      },
      "outputs": [],
      "source": [
        "import numpy as np"
      ]
    },
    {
      "cell_type": "code",
      "execution_count": 9,
      "metadata": {
        "colab": {
          "base_uri": "https://localhost:8080/"
        },
        "id": "afnzw1bkvAlw",
        "outputId": "a4957e25-c605-4b65-9dcc-db42955a9069"
      },
      "outputs": [
        {
          "data": {
            "text/plain": [
              "array([0., 1., 2., 3., 4., 5.])"
            ]
          },
          "execution_count": 9,
          "metadata": {},
          "output_type": "execute_result"
        }
      ],
      "source": [
        "df['act'].unique()"
      ]
    },
    {
      "cell_type": "code",
      "execution_count": 10,
      "metadata": {
        "id": "LywM8DtAuhCA"
      },
      "outputs": [],
      "source": [
        "subject_id = 1\n",
        "act_id = 0\n",
        "subject_mask = df['id'] == subject_id\n",
        "act_mask = df['act'] == act_id\n",
        "\n",
        "X = []\n",
        "y = []\n",
        "\n",
        "for label in df['act'].unique():\n",
        "  for subj_id in df['id'].unique():\n",
        "    subj_mask = df['id'] == subj_id\n",
        "    act_mask = df['act'] == label\n",
        "    filtered_df = df[subj_mask & act_mask].reset_index()\n",
        "\n",
        "    X.append(filtered_df[ANALYSIS_COL].values)\n",
        "    y.append(label)"
      ]
    },
    {
      "cell_type": "code",
      "execution_count": 11,
      "metadata": {
        "colab": {
          "base_uri": "https://localhost:8080/"
        },
        "id": "Ixl_XrH2mlTb",
        "outputId": "d0d28cfb-fa84-448b-80c4-45f44de252eb"
      },
      "outputs": [
        {
          "data": {
            "text/plain": [
              "(array([0., 1., 2., 3., 4., 5.]), array([24, 24, 24, 24, 24, 24]))"
            ]
          },
          "execution_count": 11,
          "metadata": {},
          "output_type": "execute_result"
        }
      ],
      "source": [
        "np.unique(y, return_counts=True)"
      ]
    },
    {
      "cell_type": "markdown",
      "metadata": {},
      "source": [
        "# Preparando avaliação"
      ]
    },
    {
      "cell_type": "code",
      "execution_count": 12,
      "metadata": {},
      "outputs": [],
      "source": [
        "from ranx import Qrels"
      ]
    },
    {
      "cell_type": "code",
      "execution_count": 13,
      "metadata": {},
      "outputs": [],
      "source": [
        "qrels = Qrels.from_file(QRELS_PATH)"
      ]
    },
    {
      "cell_type": "markdown",
      "metadata": {
        "id": "vHGtoI2a8MwD"
      },
      "source": [
        "# Executando a busca por similaridade"
      ]
    },
    {
      "cell_type": "code",
      "execution_count": 14,
      "metadata": {
        "id": "_iVpH7Pv9WIt"
      },
      "outputs": [],
      "source": [
        "from ranx import Run\n",
        "from aeon.distances import dtw_pairwise_distance"
      ]
    },
    {
      "cell_type": "code",
      "execution_count": 15,
      "metadata": {
        "id": "Eahn4PE773pS"
      },
      "outputs": [],
      "source": [
        "def compute_neighbors_by_similarity(\n",
        "    distances: np.array,\n",
        "    topk: int = 100) -> dict:\n",
        "\n",
        "  run_dict = {}\n",
        "\n",
        "  for qid in range(distances.shape[0]):\n",
        "    all_sims = distances[qid]\n",
        "    topk = np.argsort(all_sims)\n",
        "\n",
        "    # ignorando o proprio exemplo de busca\n",
        "    estimated_ids = topk[1:]\n",
        "    scores = list(range(len(estimated_ids)))[::-1]\n",
        "\n",
        "    run_dict[str(qid)] = {str(n): float(score) for n, score in zip(estimated_ids, scores)}\n",
        "\n",
        "  return run_dict"
      ]
    },
    {
      "cell_type": "code",
      "execution_count": 16,
      "metadata": {},
      "outputs": [
        {
          "data": {
            "text/plain": [
              "'evaluation/adtw/userAcceleration-z_distances.npy'"
            ]
          },
          "execution_count": 16,
          "metadata": {},
          "output_type": "execute_result"
        }
      ],
      "source": [
        "PRECOMPUTED_DISTANCES"
      ]
    },
    {
      "cell_type": "code",
      "execution_count": 17,
      "metadata": {},
      "outputs": [],
      "source": [
        "distances = np.load(PRECOMPUTED_DISTANCES)"
      ]
    },
    {
      "cell_type": "code",
      "execution_count": 18,
      "metadata": {
        "id": "d5yvbyIxAieE"
      },
      "outputs": [],
      "source": [
        "run_dict = compute_neighbors_by_similarity(distances)"
      ]
    },
    {
      "cell_type": "markdown",
      "metadata": {
        "id": "VWuFpvgpAs3Z"
      },
      "source": [
        "# Avaliando métricas de RI"
      ]
    },
    {
      "cell_type": "code",
      "execution_count": 19,
      "metadata": {
        "id": "D-3hqLUoA0td"
      },
      "outputs": [],
      "source": [
        "from ranx import evaluate"
      ]
    },
    {
      "cell_type": "code",
      "execution_count": 20,
      "metadata": {
        "id": "QzwFOfz6Ars0"
      },
      "outputs": [],
      "source": [
        "METRICS = [\"recall@10\", 'map@10', 'hit_rate@10', 'mrr@10']\n",
        "# METRICS = 'mrr@10'"
      ]
    },
    {
      "cell_type": "code",
      "execution_count": 21,
      "metadata": {
        "id": "AGYwxeYxlMQr"
      },
      "outputs": [],
      "source": [
        "run = Run(run_dict)"
      ]
    },
    {
      "cell_type": "code",
      "execution_count": 22,
      "metadata": {
        "colab": {
          "base_uri": "https://localhost:8080/"
        },
        "id": "GZNzJYvIAyg-",
        "outputId": "58e8d10a-710e-4abc-ea38-1eedc13c5543"
      },
      "outputs": [
        {
          "data": {
            "text/plain": [
              "{'recall@10': 0.21846064814814814,\n",
              " 'map@10': 0.1649327371766608,\n",
              " 'hit_rate@10': 0.9861111111111112,\n",
              " 'mrr@10': 0.7505649250440916}"
            ]
          },
          "execution_count": 22,
          "metadata": {},
          "output_type": "execute_result"
        }
      ],
      "source": [
        "metrics = evaluate(qrels, run, METRICS)\n",
        "metrics"
      ]
    },
    {
      "cell_type": "markdown",
      "metadata": {
        "id": "MYR0WoNRl9G_"
      },
      "source": [
        "# Serializando Run"
      ]
    },
    {
      "cell_type": "code",
      "execution_count": 23,
      "metadata": {
        "id": "JJQEYvzKEZFw"
      },
      "outputs": [
        {
          "data": {
            "text/plain": [
              "'evaluation/runs/dtw_userAcceleration-z.json'"
            ]
          },
          "execution_count": 23,
          "metadata": {},
          "output_type": "execute_result"
        }
      ],
      "source": [
        "RUN_FILE"
      ]
    },
    {
      "cell_type": "code",
      "execution_count": 24,
      "metadata": {
        "id": "Gg4sfB0dKBOW"
      },
      "outputs": [],
      "source": [
        "run.save(RUN_FILE)"
      ]
    },
    {
      "cell_type": "code",
      "execution_count": null,
      "metadata": {
        "id": "_2sX-GyRmK33"
      },
      "outputs": [],
      "source": []
    }
  ],
  "metadata": {
    "colab": {
      "provenance": []
    },
    "kernelspec": {
      "display_name": "ts",
      "language": "python",
      "name": "python3"
    },
    "language_info": {
      "codemirror_mode": {
        "name": "ipython",
        "version": 3
      },
      "file_extension": ".py",
      "mimetype": "text/x-python",
      "name": "python",
      "nbconvert_exporter": "python",
      "pygments_lexer": "ipython3",
      "version": "3.10.15"
    }
  },
  "nbformat": 4,
  "nbformat_minor": 0
}
