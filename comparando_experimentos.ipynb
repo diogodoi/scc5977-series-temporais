{
 "cells": [
  {
   "cell_type": "markdown",
   "metadata": {
    "id": "O2vM0TN7oAaC"
   },
   "source": [
    "# Carregando todas as Runs"
   ]
  },
  {
   "cell_type": "code",
   "execution_count": 1,
   "metadata": {
    "executionInfo": {
     "elapsed": 9612,
     "status": "ok",
     "timestamp": 1729041424071,
     "user": {
      "displayName": "Kenzo Miranda Sakiyama",
      "userId": "17190914206091993570"
     },
     "user_tz": 180
    },
    "id": "uQmnUR3QoSx5"
   },
   "outputs": [],
   "source": [
    "from pathlib import Path\n",
    "from ranx import Run, Qrels"
   ]
  },
  {
   "cell_type": "code",
   "execution_count": 2,
   "metadata": {
    "executionInfo": {
     "elapsed": 6,
     "status": "ok",
     "timestamp": 1729041424072,
     "user": {
      "displayName": "Kenzo Miranda Sakiyama",
      "userId": "17190914206091993570"
     },
     "user_tz": 180
    },
    "id": "vWkWGtQ8oAAm"
   },
   "outputs": [],
   "source": [
    "RUN_FOLDER = \"evaluation/runs\"\n",
    "QRELS_PATH = 'evaluation/qrels.json'"
   ]
  },
  {
   "cell_type": "code",
   "execution_count": 3,
   "metadata": {
    "executionInfo": {
     "elapsed": 5,
     "status": "ok",
     "timestamp": 1729041424072,
     "user": {
      "displayName": "Kenzo Miranda Sakiyama",
      "userId": "17190914206091993570"
     },
     "user_tz": 180
    },
    "id": "xxOimeQAoPbM"
   },
   "outputs": [],
   "source": [
    "source_folder = Path(RUN_FOLDER)"
   ]
  },
  {
   "cell_type": "code",
   "execution_count": 4,
   "metadata": {
    "executionInfo": {
     "elapsed": 36901,
     "status": "ok",
     "timestamp": 1729041460969,
     "user": {
      "displayName": "Kenzo Miranda Sakiyama",
      "userId": "17190914206091993570"
     },
     "user_tz": 180
    },
    "id": "3lb7D-0qoYKr"
   },
   "outputs": [],
   "source": [
    "runs = []\n",
    "for f in source_folder.iterdir():\n",
    "  run = Run.from_file(f, name=f.stem.replace('_', ' ').replace('-', '.').capitalize())\n",
    "  runs.append(run)"
   ]
  },
  {
   "cell_type": "code",
   "execution_count": 5,
   "metadata": {},
   "outputs": [],
   "source": [
    "# ordenar runs por nome\n",
    "runs.sort(key=lambda x: x.name)"
   ]
  },
  {
   "cell_type": "code",
   "execution_count": 6,
   "metadata": {
    "executionInfo": {
     "elapsed": 12122,
     "status": "ok",
     "timestamp": 1729041473089,
     "user": {
      "displayName": "Kenzo Miranda Sakiyama",
      "userId": "17190914206091993570"
     },
     "user_tz": 180
    },
    "id": "x7mT6xrPqn8M"
   },
   "outputs": [],
   "source": [
    "qrels = Qrels.from_file(QRELS_PATH)"
   ]
  },
  {
   "cell_type": "markdown",
   "metadata": {
    "id": "RXrkRpYzqNNa"
   },
   "source": [
    "# Comparação entre Runs"
   ]
  },
  {
   "cell_type": "code",
   "execution_count": 7,
   "metadata": {
    "executionInfo": {
     "elapsed": 6,
     "status": "ok",
     "timestamp": 1729041473090,
     "user": {
      "displayName": "Kenzo Miranda Sakiyama",
      "userId": "17190914206091993570"
     },
     "user_tz": 180
    },
    "id": "mOrcxUPzpqm6"
   },
   "outputs": [],
   "source": [
    "from ranx import evaluate, compare"
   ]
  },
  {
   "cell_type": "code",
   "execution_count": 8,
   "metadata": {
    "executionInfo": {
     "elapsed": 6,
     "status": "ok",
     "timestamp": 1729041473090,
     "user": {
      "displayName": "Kenzo Miranda Sakiyama",
      "userId": "17190914206091993570"
     },
     "user_tz": 180
    },
    "id": "NmbLLMtkqzzt"
   },
   "outputs": [],
   "source": [
    "# METRICS = [\"recall@10\", 'map@10', 'hit_rate@10', 'mrr@10']\n",
    "METRICS = [\"recall@30\", 'mrr@30']\n",
    "# METRICS = 'mrr@10'"
   ]
  },
  {
   "cell_type": "code",
   "execution_count": 12,
   "metadata": {
    "colab": {
     "base_uri": "https://localhost:8080/"
    },
    "executionInfo": {
     "elapsed": 22908,
     "status": "ok",
     "timestamp": 1729041495993,
     "user": {
      "displayName": "Kenzo Miranda Sakiyama",
      "userId": "17190914206091993570"
     },
     "user_tz": 180
    },
    "id": "ustTs1vhqQqH",
    "outputId": "309f1202-b587-4f93-9424-619034cc4b3c"
   },
   "outputs": [],
   "source": [
    "report = compare(\n",
    "    qrels=qrels,\n",
    "    runs=runs,\n",
    "    metrics=METRICS,\n",
    "    rounding_digits=4,\n",
    "    max_p=0.05  # P-value threshold\n",
    ")"
   ]
  },
  {
   "cell_type": "code",
   "execution_count": 13,
   "metadata": {
    "colab": {
     "base_uri": "https://localhost:8080/"
    },
    "executionInfo": {
     "elapsed": 15,
     "status": "ok",
     "timestamp": 1729041495994,
     "user": {
      "displayName": "Kenzo Miranda Sakiyama",
      "userId": "17190914206091993570"
     },
     "user_tz": 180
    },
    "id": "IaXXODGlq5PA",
    "outputId": "2eaa44ce-17b7-42f2-98ff-f971c00bd241"
   },
   "outputs": [
    {
     "name": "stdout",
     "output_type": "stream",
     "text": [
      "#    Model                    Recall@30          MRR@30\n",
      "---  -----------------------  -----------------  ----------------\n",
      "a    Adtw multivar            0.5486ᵉᶦ           0.8084ᵉ\n",
      "b    Adtw useracceleration.x  0.5804ᵈᵉʰᶦ         0.8374ᵉ\n",
      "c    Adtw useracceleration.y  0.5940ᵃᵈᵉʰᶦ        0.8612ᵈᵉʰ\n",
      "d    Adtw useracceleration.z  0.5231ᵉᶦ           0.7885ᵉ\n",
      "e    Ddtw multivar            0.4120             0.7164\n",
      "f    Ddtw useracceleration.x  0.5804ᵈᵉʰᶦ         0.8374ᵉ\n",
      "g    Ddtw useracceleration.y  0.5940ᵃᵈᵉʰᶦ        0.8612ᵈᵉʰ\n",
      "h    Ddtw useracceleration.z  0.5231ᵉᶦ           0.7885ᵉ\n",
      "i    Dtw multivar             0.4774ᵉ            0.9178ᵃᵇᶜᵈᵉᶠᵍʰˡ\n",
      "j    Dtw useracceleration.x   0.6016ᵃᵇᵈᵉᶠʰᶦˡ     0.8735ᵃᵈᵉʰ\n",
      "k    Dtw useracceleration.y   0.6797ᵃᵇᶜᵈᵉᶠᵍʰᶦʲˡ  0.9264ᵃᵇᶜᵈᵉᶠᵍʰʲˡ\n",
      "l    Dtw useracceleration.z   0.5680ᵈᵉʰᶦ         0.8712ᵃᵈᵉʰ\n"
     ]
    }
   ],
   "source": [
    "print(report)"
   ]
  },
  {
   "cell_type": "code",
   "execution_count": 11,
   "metadata": {
    "executionInfo": {
     "elapsed": 11,
     "status": "ok",
     "timestamp": 1729041495994,
     "user": {
      "displayName": "Kenzo Miranda Sakiyama",
      "userId": "17190914206091993570"
     },
     "user_tz": 180
    },
    "id": "K2SFfHHYrDC3"
   },
   "outputs": [
    {
     "name": "stdout",
     "output_type": "stream",
     "text": [
      "========================\n",
      "% Add in preamble\n",
      "\\usepackage{graphicx}\n",
      "\\usepackage{booktabs}\n",
      "========================\n",
      "\n",
      "\n",
      "% To change the table size, act on the resizebox argument `0.8`.\n",
      "\\begin{table*}[ht]\n",
      "\\centering\n",
      "\\caption{\n",
      "Overall effectiveness of the models.\n",
      "The best results are highlighted in boldface.\n",
      "Superscripts denote significant differences in paired Student's t-test with $p \\le 0.05$.\n",
      "}\n",
      "\\resizebox{0.8\\textwidth}{!}{\n",
      "\\begin{tabular}{c|l|c|c}\n",
      "\\toprule\n",
      "\\textbf{\\#}\n",
      "& \\textbf{Model}\n",
      "& \\textbf{Recall@30}\n",
      "& \\textbf{MRR@30} \\\\ \n",
      "\\midrule\n",
      "a &\n",
      "Adtw multivar &\n",
      "0.549$^{ei}$\\hphantom{$^{bcdfghjkl}$} &\n",
      "0.808$^{e}$\\hphantom{$^{bcdfghijkl}$} \\\\\n",
      "b &\n",
      "Adtw useracceleration.x &\n",
      "0.580$^{dehi}$\\hphantom{$^{acfgjkl}$} &\n",
      "0.837$^{e}$\\hphantom{$^{acdfghijkl}$} \\\\\n",
      "c &\n",
      "Adtw useracceleration.y &\n",
      "0.594$^{adehi}$\\hphantom{$^{bfgjkl}$} &\n",
      "0.861$^{deh}$\\hphantom{$^{abfgijkl}$} \\\\\n",
      "d &\n",
      "Adtw useracceleration.z &\n",
      "0.523$^{ei}$\\hphantom{$^{abcfghjkl}$} &\n",
      "0.788$^{e}$\\hphantom{$^{abcfghijkl}$} \\\\\n",
      "e &\n",
      "Ddtw multivar &\n",
      "0.412\\hphantom{$^{abcdfghijkl}$} &\n",
      "0.716\\hphantom{$^{abcdfghijkl}$} \\\\\n",
      "f &\n",
      "Ddtw useracceleration.x &\n",
      "0.580$^{dehi}$\\hphantom{$^{abcgjkl}$} &\n",
      "0.837$^{e}$\\hphantom{$^{abcdghijkl}$} \\\\\n",
      "g &\n",
      "Ddtw useracceleration.y &\n",
      "0.594$^{adehi}$\\hphantom{$^{bcfjkl}$} &\n",
      "0.861$^{deh}$\\hphantom{$^{abcfijkl}$} \\\\\n",
      "h &\n",
      "Ddtw useracceleration.z &\n",
      "0.523$^{ei}$\\hphantom{$^{abcdfgjkl}$} &\n",
      "0.788$^{e}$\\hphantom{$^{abcdfgijkl}$} \\\\\n",
      "i &\n",
      "Dtw multivar &\n",
      "0.477$^{e}$\\hphantom{$^{abcdfghjkl}$} &\n",
      "0.918$^{abcdefghl}$\\hphantom{$^{jk}$} \\\\\n",
      "j &\n",
      "Dtw useracceleration.x &\n",
      "0.602$^{abdefhil}$\\hphantom{$^{cgk}$} &\n",
      "0.874$^{adeh}$\\hphantom{$^{bcfgikl}$} \\\\\n",
      "k &\n",
      "Dtw useracceleration.y &\n",
      "\\textbf{0.680}$^{abcdefghijl}$\\hphantom{} &\n",
      "\\textbf{0.926}$^{abcdefghjl}$\\hphantom{$^{i}$} \\\\\n",
      "l &\n",
      "Dtw useracceleration.z &\n",
      "0.568$^{dehi}$\\hphantom{$^{abcfgjk}$} &\n",
      "0.871$^{adeh}$\\hphantom{$^{bcfgijk}$} \\\\\n",
      "\\bottomrule\n",
      "\\end{tabular}\n",
      "}\n",
      "\\label{tab:results}\n",
      "\\end{table*}\n"
     ]
    }
   ],
   "source": [
    "print(report.to_latex())"
   ]
  },
  {
   "cell_type": "code",
   "execution_count": null,
   "metadata": {},
   "outputs": [],
   "source": []
  }
 ],
 "metadata": {
  "colab": {
   "authorship_tag": "ABX9TyPXWtPIRY8ejBnoleNyfTpx",
   "mount_file_id": "1i8dZYovl4IFIJmb5VOCVNmHpsY4SUd93",
   "provenance": []
  },
  "kernelspec": {
   "display_name": "ts",
   "language": "python",
   "name": "python3"
  },
  "language_info": {
   "codemirror_mode": {
    "name": "ipython",
    "version": 3
   },
   "file_extension": ".py",
   "mimetype": "text/x-python",
   "name": "python",
   "nbconvert_exporter": "python",
   "pygments_lexer": "ipython3",
   "version": "3.10.15"
  }
 },
 "nbformat": 4,
 "nbformat_minor": 0
}
